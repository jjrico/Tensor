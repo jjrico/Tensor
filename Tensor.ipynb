{
  "nbformat": 4,
  "nbformat_minor": 0,
  "metadata": {
    "colab": {
      "name": "Tensor.ipynb",
      "provenance": [],
      "authorship_tag": "ABX9TyPKUBuJLXY8GX/dGFeeDkQn",
      "include_colab_link": true
    },
    "kernelspec": {
      "name": "python3",
      "display_name": "Python 3"
    }
  },
  "cells": [
    {
      "cell_type": "markdown",
      "metadata": {
        "id": "view-in-github",
        "colab_type": "text"
      },
      "source": [
        "<a href=\"https://colab.research.google.com/github/jjrico/Tensor/blob/master/Tensor.ipynb\" target=\"_parent\"><img src=\"https://colab.research.google.com/assets/colab-badge.svg\" alt=\"Open In Colab\"/></a>"
      ]
    },
    {
      "cell_type": "markdown",
      "metadata": {
        "id": "cduna8PuWhcL"
      },
      "source": [
        "# Tensor.py\n",
        "### Last edited by Jeremy Rico\n",
        "### timestamp: 10/20/2020 18:23\n",
        "\n",
        "This program creates a class Tensor that will create a tensor (n-dimensional\n",
        "matrix) based on the Data and Shape input given by the user."
      ]
    },
    {
      "cell_type": "markdown",
      "metadata": {
        "id": "n59zRBq0XSPi"
      },
      "source": [
        "Import libraries and mount to Drive"
      ]
    },
    {
      "cell_type": "code",
      "metadata": {
        "id": "NnkIrv5XWbfU",
        "outputId": "9ab3c4a8-0c07-4f02-cf7d-626c0ed98b94",
        "colab": {
          "base_uri": "https://localhost:8080/",
          "height": 34
        }
      },
      "source": [
        "import numpy as np # used for answer checking and testing only\n",
        "import tensorflow as tf # used to import MNIST\n",
        "\n",
        "from google.colab import drive\n",
        "drive.mount('/content/gdrive')"
      ],
      "execution_count": 1,
      "outputs": [
        {
          "output_type": "stream",
          "text": [
            "Drive already mounted at /content/gdrive; to attempt to forcibly remount, call drive.mount(\"/content/gdrive\", force_remount=True).\n"
          ],
          "name": "stdout"
        }
      ]
    },
    {
      "cell_type": "markdown",
      "metadata": {
        "id": "Y7SpD_V8Wp7G"
      },
      "source": [
        "### Helper functions"
      ]
    },
    {
      "cell_type": "code",
      "metadata": {
        "id": "grXtmaEWWemf"
      },
      "source": [
        "# helper function to calculate the product of all elements in a list\n",
        "def prod(list):\n",
        "    product = 1\n",
        "    for i in list:\n",
        "        product = product * i\n",
        "    return product\n",
        "\n",
        "def printMat(mat):\n",
        "    for row in mat:\n",
        "        print(row)"
      ],
      "execution_count": 2,
      "outputs": []
    },
    {
      "cell_type": "code",
      "metadata": {
        "id": "m4NA99GUWu7A"
      },
      "source": [
        "# helper function performs dot product of two matrices by transposing weight\n",
        "#   matrix and MAC-ing each row in F with each row in W_T\n",
        "#   WORKS ONLY FOR 2D MATRICES\n",
        "def dot(F, W):\n",
        "    if (len(F[0]) != len(W)): # check that the # of cols in feautre matrix are\n",
        "                              # equal to # of rows in weight matrix\n",
        "        print(\"Error: Matrix sizes are not compatible\")\n",
        "        return []\n",
        "    else:\n",
        "        # first, transpose weights matrix\n",
        "        W_T = [[W[j][i] for j in range(len(W))] for i in range(len(W[0]))]\n",
        "        # now, perform multiplication\n",
        "        ret = []\n",
        "        # MAC each row in F with each row in W_T\n",
        "        for i in range(len(F)):\n",
        "            temp = []\n",
        "            for j in range(len(W_T)):\n",
        "                temp.append(sum(x * y for x, y in zip(F[i], W_T[j])))\n",
        "            ret.append(temp)\n",
        "        return ret"
      ],
      "execution_count": 3,
      "outputs": []
    },
    {
      "cell_type": "code",
      "metadata": {
        "id": "Qj7wpw00nUR4"
      },
      "source": [
        "# accuracy function\n",
        "def accuracy(predictions, labels):\n",
        "  num_correct = 0.0\n",
        "  for i in range(len(predictions)):\n",
        "    if (np.argmax(predictions[i]) == labels[i]):\n",
        "      num_correct += 1.0\n",
        "  return num_correct/len(predictions)"
      ],
      "execution_count": 4,
      "outputs": []
    },
    {
      "cell_type": "markdown",
      "metadata": {
        "id": "YBDVT3OaWxwE"
      },
      "source": [
        "### Tensor Class"
      ]
    },
    {
      "cell_type": "code",
      "metadata": {
        "id": "X4xtPkGBW0cy"
      },
      "source": [
        "# BEGIN TENSOR CLASS ===========================================================\n",
        "class Tensor:\n",
        "    # initializer\n",
        "    def __init__(self, data, shape):\n",
        "        self.data = data    # contains data (int, float, string, etc.)\n",
        "        self.shape = shape  # shape in which to initialize the tensor\n",
        "        self.tensor = []    # empty list to hold tensor\n",
        "        self.create_Tensor()    # main function\n",
        "\n",
        "    # Helper function called by constructor to shape the data.\n",
        "    def create_Tensor(self):\n",
        "      if (type(self.shape[0]) == list):\n",
        "        for i in range(self.shape[0]):\n",
        "          temp = []\n",
        "          for j in range(self.shape[1]):\n",
        "            temp.append(self.data[i][j])\n",
        "          self.tensor.append(temp)\n",
        "      else: \n",
        "        for i in self.data:\n",
        "          self.tensor.append(i)\n",
        "      \n",
        "    def print(self):\n",
        "        print(self.tensor)\n",
        "# END TENSOR CLASS ============================================================"
      ],
      "execution_count": 5,
      "outputs": []
    },
    {
      "cell_type": "markdown",
      "metadata": {
        "id": "Tyx8FI_xW81I"
      },
      "source": [
        "### Dense Class"
      ]
    },
    {
      "cell_type": "code",
      "metadata": {
        "id": "YRGztSLQW6Wd"
      },
      "source": [
        "# BEGIN DENSE CLASS ===========================================================\n",
        "class Dense:\n",
        "    #initializer\n",
        "    def __init__(self, input, weight, bias):\n",
        "        self.input = input.tensor\n",
        "        self.weight = weight.tensor\n",
        "        self.bias = bias.tensor\n",
        "        self.layer = []\n",
        "\n",
        "    # creates a dense layer from the three member variable lists\n",
        "    def run(self):\n",
        "        # find dot product of feature and weight matrix\n",
        "        dot_prod = dot(self.input, self.weight) # call helper function (line 29)\n",
        "        # add bias to each row\n",
        "        for i in dot_prod:\n",
        "            self.layer.append([sum(row) for row in zip(i, self.bias)])\n",
        "        return self.layer\n",
        "    \n",
        "    def reLU(self):\n",
        "      for i in range(len(self.layer)):\n",
        "        for j in range(len(self.layer[0])):\n",
        "          self.layer[i][j] = max(0.0, self.layer[i][j])\n",
        "      return self.layer\n",
        "\n",
        "\n",
        "\n",
        "# END DENSE CLASS =============================================================="
      ],
      "execution_count": 6,
      "outputs": []
    },
    {
      "cell_type": "markdown",
      "metadata": {
        "id": "_AmkRB6Oc0l8"
      },
      "source": [
        "## Begin Main"
      ]
    },
    {
      "cell_type": "markdown",
      "metadata": {
        "id": "1LH6EP_HXolQ"
      },
      "source": [
        "### Load MNIST Data"
      ]
    },
    {
      "cell_type": "code",
      "metadata": {
        "id": "4PVMML4_b-Rh"
      },
      "source": [
        "# Load dataset\n",
        "mnist = tf.keras.datasets.mnist\n",
        "\n",
        "# Split into train and test \n",
        "(x_train, y_train), (x_test, y_test) = mnist.load_data()\n",
        "\n",
        "# Regularize\n",
        "x_train, x_test = x_train / 255.0, x_test / 255.0\n",
        "x_train = np.reshape(x_train, (x_train.shape[0], 784))\n",
        "x_test = np.reshape(x_test, (x_test.shape[0], 784))\n",
        "\n",
        "# Add a channels dimension\n",
        "#x_train = x_train[..., tf.newaxis].astype(\"float32\")\n",
        "#x_test = x_test[..., tf.newaxis].astype(\"float32\")"
      ],
      "execution_count": 7,
      "outputs": []
    },
    {
      "cell_type": "markdown",
      "metadata": {
        "id": "m6JkC_SJhsVs"
      },
      "source": [
        "### Convert MNIST to Tensor class"
      ]
    },
    {
      "cell_type": "code",
      "metadata": {
        "id": "gNXvcBxscioU"
      },
      "source": [
        "batch = 10000\n",
        "x_train = Tensor(x_train[0:batch], x_train[0:batch].shape)\n",
        "x_test = Tensor(x_test[0:batch], x_test[0:batch].shape)\n",
        "#y_train = Tensor(y_train[0:32], y_train[0:32].shape)\n",
        "#y_test = Tensor(y_test[0:32], y_test[0:32].shape)"
      ],
      "execution_count": 8,
      "outputs": []
    },
    {
      "cell_type": "markdown",
      "metadata": {
        "id": "GRZC5w_XcHmO"
      },
      "source": [
        "### Load weights from Drive"
      ]
    },
    {
      "cell_type": "code",
      "metadata": {
        "id": "BOT0GFuLXPBJ"
      },
      "source": [
        "# define data and shape to create tensors\n",
        "\n",
        "w0_from_drive = np.load(F\"/content/gdrive/My Drive/w0.npy\")\n",
        "b0_from_drive = np.load(F\"/content/gdrive/My Drive/b0.npy\")\n",
        "w1_from_drive = np.load(F\"/content/gdrive/My Drive/w1.npy\")\n",
        "b1_from_drive = np.load(F\"/content/gdrive/My Drive/b1.npy\")"
      ],
      "execution_count": 9,
      "outputs": []
    },
    {
      "cell_type": "markdown",
      "metadata": {
        "id": "ec0PYVRHcTW5"
      },
      "source": [
        "### Convert to Tensor class"
      ]
    },
    {
      "cell_type": "code",
      "metadata": {
        "id": "g7jh1ZtOXoNG",
        "outputId": "85dae445-963a-44fd-b8ca-f3fd4af514f0",
        "colab": {
          "base_uri": "https://localhost:8080/",
          "height": 86
        }
      },
      "source": [
        "w0 = Tensor(w0_from_drive, w0_from_drive.shape)\n",
        "b0 = Tensor(b0_from_drive, b0_from_drive.shape)\n",
        "w1 = Tensor(w1_from_drive, w1_from_drive.shape)\n",
        "b1 = Tensor(b1_from_drive, b1_from_drive.shape)\n",
        "print(w0.shape)\n",
        "print(b0.shape)\n",
        "print(w1.shape)\n",
        "print(b1.shape)"
      ],
      "execution_count": 10,
      "outputs": [
        {
          "output_type": "stream",
          "text": [
            "(784, 128)\n",
            "(128,)\n",
            "(128, 10)\n",
            "(10,)\n"
          ],
          "name": "stdout"
        }
      ]
    },
    {
      "cell_type": "code",
      "metadata": {
        "id": "mldjsUcsgb7j",
        "outputId": "facc4345-2d5f-4ed5-c99a-2bcbf2d4eb2d",
        "colab": {
          "base_uri": "https://localhost:8080/",
          "height": 34
        }
      },
      "source": [
        "# Dense layer 1\n",
        "dense0 = Dense(x_test, w0, b0)\n",
        "axon0 = dense0.run()\n",
        "layer1 = dense0.reLU()\n",
        "\n",
        "#convert activation layer to tensor\n",
        "layer1 = Tensor(layer1, [len(layer1), len(layer1[0])])\n",
        "\n",
        "# Dense layer 2\n",
        "dense1 = Dense(layer1, w1, b1)\n",
        "axon1 = dense1.run()\n",
        "layer2 = dense1.reLU() # outputs one-hot vector for digits 0-9\n",
        "\n",
        "acc = accuracy(layer2, y_test[0:batch])\n",
        "print(\"Model accuracy: %f%%\" % (acc*100))\n",
        "\n"
      ],
      "execution_count": 11,
      "outputs": [
        {
          "output_type": "stream",
          "text": [
            "Model accuracy: 97.690000%\n"
          ],
          "name": "stdout"
        }
      ]
    },
    {
      "cell_type": "code",
      "metadata": {
        "id": "yuIItEPMoZ1t"
      },
      "source": [
        ""
      ],
      "execution_count": 11,
      "outputs": []
    }
  ]
}