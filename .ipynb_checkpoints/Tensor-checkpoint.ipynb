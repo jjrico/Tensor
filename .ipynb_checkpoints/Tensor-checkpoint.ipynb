{
 "cells": [
  {
   "cell_type": "markdown",
   "metadata": {},
   "source": [
    "# Tensor.py\n",
    "### Last edited by Jeremy Rico\n",
    "### Timestamp: 9/19/2020 11:26\n",
    "\n",
    "This program creates a class Tensor that will create a tensor (n-dimensiona matrix) based on the Data and Shape input given by the user."
   ]
  },
  {
   "cell_type": "code",
   "execution_count": 6,
   "metadata": {},
   "outputs": [],
   "source": [
    "# helper function to calculate the product of all elements in a list\n",
    "def prod(list):\n",
    "    product = 1\n",
    "    for i in list:\n",
    "        product = product * i\n",
    "    return product"
   ]
  },
  {
   "cell_type": "markdown",
   "metadata": {},
   "source": [
    "### Begin Class Definition\n",
    "\n",
    "Attributes: \n",
    "\n",
    "    data: Data to fill the tensor, given as a list of any data type\n",
    "    \n",
    "    shape: list of positive integers to shape the tensor\n",
    "    \n",
    "    tensor: n dimensional matrix of shape \"shape\" to be filled with values from \"data\". If the shape of the tensor exceeds the length of \"data\" the tensor will be filled with zeros\n",
    "Methods:\n",
    "\n",
    "    create_Tensor(self): Populates and shapes a tensor according to the given shape and data. Saves tensor in the tensor attribue and prints it. \n",
    "    \n",
    "    This method works by first initializing a certain number of sub lists (using the tensor as a temporary queue), then reshaping those sublists until it has reached the rank of the given shape.\n",
    "       \n",
    "Explanation:\n",
    "    \n",
    "    Example: tensor0\n",
    "    data0 = [0, 1, 2, 3, 4, 5, 0.1, 0.2, -3]\n",
    "    shape0 = [2, 3, 2] (Rank 3)\n",
    "    \n",
    "    size = shape.pop() = 2 Note: pop() removes the last element of the list and returns it so now shape = [2, 3]\n",
    "    length = product( shape ) = 2 * 3 = 6\n",
    "    \n",
    "    Therefore, loop 1 makes 6 lists of length 2 and populates it with values from \"data\" or zeros. This loop will always run as long as \"shape\" is a list\n",
    "    \n",
    "    tensor = [ [0, 1], [2, 3], [4, 5], [0.1 0.2], [-3, 0], [0, 0] ]\n",
    "    \n",
    "    Loop 2 continues this process until there is only one element in \"shape\", however, this loop uses the data from \"tensor\" instead of \"data\". This loop only runs if the degree of the tensor is greater than 2\n",
    "    \n",
    "    pass 1: shape = [2, 3]\n",
    "        \n",
    "        size = shape.pop() = 3 Note: shape now equals [2]\n",
    "        length = product( shape ) = 2 \n",
    " \n",
    "        \n",
    "        tensor = [ [ [0, 1], [2, 3], [4, 5] ], [ [0.1, 0.2], [-3, 0], [0, 0] ] ]\n",
    "    \n",
    "    This is our final product. The loop breaks, and the tensor is printed to the console.     \n",
    "\n",
    "    "
   ]
  },
  {
   "cell_type": "code",
   "execution_count": 7,
   "metadata": {},
   "outputs": [],
   "source": [
    "class Tensor:   \n",
    "    # initializer\n",
    "    def __init__(self, data, shape):\n",
    "        self.data = data\n",
    "        self.shape = shape  \n",
    "        self.tensor = []    \n",
    "        self.create_Tensor() \n",
    "        \n",
    "    # create_Tensor(): main function to initialize and populate tensor\n",
    "    def create_Tensor(self):\n",
    "\n",
    "        # The size of the smallest sublists are equal to the last element in\n",
    "        #   the shape list. The number of lists we create is determined by\n",
    "        #   calculating the product of all other elements of the list (except\n",
    "        #   the last element)\n",
    "        size = self.shape.pop()\n",
    "        length = prod(self.shape)\n",
    "\n",
    "        # This initial loop creates the sub lists using the data given, if the\n",
    "        #   length of the tensor exceeds the length of data given, it fills the\n",
    "        #   remainins space with zeros\n",
    "        for i in range(length):\n",
    "            temp = []\n",
    "            for j in range(size):\n",
    "                if not self.data:\n",
    "                    temp.append(0)\n",
    "                else:\n",
    "                    temp.append(self.data.pop(0))\n",
    "            self.tensor.append(temp) # use tensor attribute to hold values for\n",
    "                                     #  now to save memory space\n",
    "        \n",
    "        # tensors of Rank 1 had an extra pair of brackets. This removes them\n",
    "        if not self.shape: self.tensor = self.tensor[0]\n",
    "\n",
    "        # This loop uses the predefined sublists and shapes them into the\n",
    "        #   specified shape. It removes the first n elements of self.tensor,\n",
    "        #   combines them into a list of specified length, then adds that list\n",
    "        #   on to the back of self.tensor\n",
    "        while len(self.shape) > 1:\n",
    "            size = self.shape.pop()\n",
    "            length = prod(self.shape)\n",
    "\n",
    "            for i in range(length):\n",
    "                temp = []\n",
    "                for j in range(size):\n",
    "                    temp.append(self.tensor.pop(0)) # remove first element of\n",
    "                                                    # tensor and save it in temp variable\n",
    "                self.tensor.append(temp)\n",
    "            \n",
    "        print(self.tensor)\n"
   ]
  },
  {
   "cell_type": "markdown",
   "metadata": {},
   "source": [
    "### End Class Definition"
   ]
  },
  {
   "cell_type": "code",
   "execution_count": 8,
   "metadata": {},
   "outputs": [
    {
     "name": "stdout",
     "output_type": "stream",
     "text": [
      "[[[0, 1], [2, 3], [4, 5]], [[0.1, 0.2], [-3, 0], [0, 0]]]\n",
      "[[0, 1], [2, 3], [4, 5], [0.1, 0.2], [-3, -2]]\n",
      "[0, 1, 2, 3, 4, 5, 0, 0]\n"
     ]
    }
   ],
   "source": [
    "data0 = [0, 1, 2, 3, 4, 5, 0.1, 0.2, -3]\n",
    "shape0 = [2, 3, 2]\n",
    "\n",
    "data1 = [0, 1, 2, 3, 4, 5, 0.1, 0.2, -3, -2, -1, 3, 2, 1]\n",
    "shape1 = [5, 2]\n",
    "\n",
    "data2 = [0, 1, 2, 3, 4, 5]\n",
    "shape2 = [8]\n",
    "\n",
    "data3 = [0, 1, 2, 3, 4, 5, 4, 6, 12, 6, 1, 6, 6, 3, 7, 8, 21, 4]\n",
    "shape3 = [2, 3, 5, 4, 3]\n",
    "\n",
    "\n",
    "tensor0 = Tensor(data0, shape0)\n",
    "tensor1 = Tensor(data1, shape1)\n",
    "tensor2 = Tensor(data2, shape2)\n",
    "#tensor3 = Tensor(data3, shape3) # WARNING: long output"
   ]
  },
  {
   "cell_type": "markdown",
   "metadata": {},
   "source": [
    "### Time and Space Complexity Analysis\n",
    "\n",
    "For our analysis, N will represent the number of elements in the tensor given by the shape parameter.\n",
    "\n",
    "The first loop iterates through each element of the tensor once. The second loop will iterate through the tensor once for every extra rank (from one to n). Therefore, this process has a time complexity of: $$ O(n^R) $$ where R is the rank of the given tensor.\n",
    "\n",
    "\n",
    "This program uses the tensor to hold all values and only uses realtivley small temporary values to create sublists. Therefore, this program has a time compexity of: $$O(n)$$\n"
   ]
  }
 ],
 "metadata": {
  "kernelspec": {
   "display_name": "Python 3",
   "language": "python",
   "name": "python3"
  },
  "language_info": {
   "codemirror_mode": {
    "name": "ipython",
    "version": 3
   },
   "file_extension": ".py",
   "mimetype": "text/x-python",
   "name": "python",
   "nbconvert_exporter": "python",
   "pygments_lexer": "ipython3",
   "version": "3.8.3"
  }
 },
 "nbformat": 4,
 "nbformat_minor": 4
}
